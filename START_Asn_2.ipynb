{
  "cells": [
    {
      "cell_type": "code",
      "execution_count": 1,
      "metadata": {
        "id": "m8-Q-57Ivxjq",
        "outputId": "9822aea5-ae7e-49b9-eeac-e477faad9082",
        "colab": {
          "base_uri": "https://localhost:8080/",
          "height": 384
        }
      },
      "outputs": [
        {
          "output_type": "error",
          "ename": "ModuleNotFoundError",
          "evalue": "No module named 'thinkplot'",
          "traceback": [
            "\u001b[0;31m---------------------------------------------------------------------------\u001b[0m",
            "\u001b[0;31mModuleNotFoundError\u001b[0m                       Traceback (most recent call last)",
            "\u001b[0;32m/tmp/ipython-input-204598118.py\u001b[0m in \u001b[0;36m<cell line: 0>\u001b[0;34m()\u001b[0m\n\u001b[1;32m      5\u001b[0m \u001b[0;32mimport\u001b[0m \u001b[0mmath\u001b[0m\u001b[0;34m\u001b[0m\u001b[0;34m\u001b[0m\u001b[0m\n\u001b[1;32m      6\u001b[0m \u001b[0;32mimport\u001b[0m \u001b[0mscipy\u001b[0m\u001b[0;34m.\u001b[0m\u001b[0mstats\u001b[0m \u001b[0;32mas\u001b[0m \u001b[0mss\u001b[0m\u001b[0;34m\u001b[0m\u001b[0;34m\u001b[0m\u001b[0m\n\u001b[0;32m----> 7\u001b[0;31m \u001b[0;32mimport\u001b[0m \u001b[0mthinkplot\u001b[0m\u001b[0;34m\u001b[0m\u001b[0;34m\u001b[0m\u001b[0m\n\u001b[0m\u001b[1;32m      8\u001b[0m \u001b[0;32mimport\u001b[0m \u001b[0mthinkstats2\u001b[0m\u001b[0;34m\u001b[0m\u001b[0;34m\u001b[0m\u001b[0m\n\u001b[1;32m      9\u001b[0m \u001b[0;34m\u001b[0m\u001b[0m\n",
            "\u001b[0;31mModuleNotFoundError\u001b[0m: No module named 'thinkplot'",
            "",
            "\u001b[0;31m---------------------------------------------------------------------------\u001b[0;32m\nNOTE: If your import is failing due to a missing package, you can\nmanually install dependencies using either !pip or !apt.\n\nTo view examples of installing some common dependencies, click the\n\"Open Examples\" button below.\n\u001b[0;31m---------------------------------------------------------------------------\u001b[0m\n"
          ],
          "errorDetails": {
            "actions": [
              {
                "action": "open_url",
                "actionText": "Open Examples",
                "url": "/notebooks/snippets/importing_libraries.ipynb"
              }
            ]
          }
        }
      ],
      "source": [
        "#import thinkplot\n",
        "#import thinkstats2\n",
        "import pandas as pd\n",
        "import numpy as np\n",
        "import math\n",
        "import scipy.stats as ss\n",
        "import thinkplot\n",
        "import thinkstats2\n",
        "\n",
        "##Seaborn for fancy plots.\n",
        "import matplotlib.pyplot as plt\n",
        "import seaborn as sns\n",
        "plt.rcParams[\"figure.figsize\"] = (15,5)"
      ]
    },
    {
      "cell_type": "markdown",
      "metadata": {
        "id": "fcTJZGfGvxjs"
      },
      "source": [
        "<h1>Assignment 2: Life Expectancy and You!</h1>\n",
        "\n",
        "<b>Instructions:</b>\n",
        "<ul>\n",
        "<li>Use the worksheet below to act as a guide to exploring and examining the data in the dataset.\n",
        "<li>Try to make things easy to read. Look at the formatting stuff above.\n",
        "<li>As long as you do what is asked, you can do things in many different ways. You may need to do a little searching.\n",
        "</ul>\n",
        "\n",
        "### Please Use Formatting to Make it Clear What I Should be Looking at! Please!!! I Beg You!!!"
      ]
    },
    {
      "cell_type": "code",
      "execution_count": 3,
      "metadata": {
        "id": "SIEhksjvvxjt",
        "outputId": "2d86c10b-4040-475b-c0fd-4b99c67361d5",
        "colab": {
          "base_uri": "https://localhost:8080/",
          "height": 399
        }
      },
      "outputs": [
        {
          "output_type": "stream",
          "name": "stderr",
          "text": [
            "/tmp/ipython-input-1330392595.py:5: FutureWarning: A value is trying to be set on a copy of a DataFrame or Series through chained assignment using an inplace method.\n",
            "The behavior will change in pandas 3.0. This inplace method will never work because the intermediate object on which we are setting values always behaves as a copy.\n",
            "\n",
            "For example, when doing 'df[col].method(value, inplace=True)', try using 'df.method({col: value}, inplace=True)' or df[col] = df[col].method(value) instead, to perform the operation inplace on the original object.\n",
            "\n",
            "\n",
            "  dfLE[\"isDeveloped\"].replace(('Developed', 'Developing'), (1, 0), inplace=True)\n",
            "/tmp/ipython-input-1330392595.py:5: FutureWarning: Downcasting behavior in `replace` is deprecated and will be removed in a future version. To retain the old behavior, explicitly call `result.infer_objects(copy=False)`. To opt-in to the future behavior, set `pd.set_option('future.no_silent_downcasting', True)`\n",
            "  dfLE[\"isDeveloped\"].replace(('Developed', 'Developing'), (1, 0), inplace=True)\n"
          ]
        },
        {
          "output_type": "execute_result",
          "data": {
            "text/plain": [
              "             Country  isDeveloped  Lifeexpectancy  AdultMortality  \\\n",
              "0        Afghanistan          0.0        58.19375        269.0625   \n",
              "1            Albania          0.0        75.15625         45.0625   \n",
              "2            Algeria          0.0        73.61875        108.1875   \n",
              "3             Angola          0.0        49.01875        328.5625   \n",
              "4  AntiguaandBarbuda          0.0        75.05625        127.5000   \n",
              "\n",
              "   infantdeaths   Alcohol  HepatitisB    Measles       BMI  under-fivedeaths  \\\n",
              "0       78.2500  0.014375   64.562500  2362.2500  15.51875          107.5625   \n",
              "1        0.6875  4.848750   98.000000    53.3750  49.06875            0.9375   \n",
              "2       20.3125  0.406667   78.000000  1943.8750  48.74375           23.5000   \n",
              "3       83.7500  5.740667   70.222222  3561.3125  18.01875          132.6250   \n",
              "4        0.0000  7.949333   98.266667     0.0000  38.42500            0.0000   \n",
              "\n",
              "     Polio  Diphtheria           GDP    Population  Schooling  \n",
              "0  48.3750     52.3125  4.136734e+09  9.972260e+06    8.21250  \n",
              "1  98.1250     98.0625  1.166938e+09  6.969116e+05   12.13750  \n",
              "2  91.7500     91.8750  7.345597e+10  2.164983e+07   12.71250  \n",
              "3  46.1250     47.6875  2.177835e+10  1.014710e+07    8.04375  \n",
              "4  96.9375     98.3125  0.000000e+00           NaN    8.84375  "
            ],
            "text/html": [
              "\n",
              "  <div id=\"df-4679a3d1-8ab9-479f-a339-c2f3bc93be1f\" class=\"colab-df-container\">\n",
              "    <div>\n",
              "<style scoped>\n",
              "    .dataframe tbody tr th:only-of-type {\n",
              "        vertical-align: middle;\n",
              "    }\n",
              "\n",
              "    .dataframe tbody tr th {\n",
              "        vertical-align: top;\n",
              "    }\n",
              "\n",
              "    .dataframe thead th {\n",
              "        text-align: right;\n",
              "    }\n",
              "</style>\n",
              "<table border=\"1\" class=\"dataframe\">\n",
              "  <thead>\n",
              "    <tr style=\"text-align: right;\">\n",
              "      <th></th>\n",
              "      <th>Country</th>\n",
              "      <th>isDeveloped</th>\n",
              "      <th>Lifeexpectancy</th>\n",
              "      <th>AdultMortality</th>\n",
              "      <th>infantdeaths</th>\n",
              "      <th>Alcohol</th>\n",
              "      <th>HepatitisB</th>\n",
              "      <th>Measles</th>\n",
              "      <th>BMI</th>\n",
              "      <th>under-fivedeaths</th>\n",
              "      <th>Polio</th>\n",
              "      <th>Diphtheria</th>\n",
              "      <th>GDP</th>\n",
              "      <th>Population</th>\n",
              "      <th>Schooling</th>\n",
              "    </tr>\n",
              "  </thead>\n",
              "  <tbody>\n",
              "    <tr>\n",
              "      <th>0</th>\n",
              "      <td>Afghanistan</td>\n",
              "      <td>0.0</td>\n",
              "      <td>58.19375</td>\n",
              "      <td>269.0625</td>\n",
              "      <td>78.2500</td>\n",
              "      <td>0.014375</td>\n",
              "      <td>64.562500</td>\n",
              "      <td>2362.2500</td>\n",
              "      <td>15.51875</td>\n",
              "      <td>107.5625</td>\n",
              "      <td>48.3750</td>\n",
              "      <td>52.3125</td>\n",
              "      <td>4.136734e+09</td>\n",
              "      <td>9.972260e+06</td>\n",
              "      <td>8.21250</td>\n",
              "    </tr>\n",
              "    <tr>\n",
              "      <th>1</th>\n",
              "      <td>Albania</td>\n",
              "      <td>0.0</td>\n",
              "      <td>75.15625</td>\n",
              "      <td>45.0625</td>\n",
              "      <td>0.6875</td>\n",
              "      <td>4.848750</td>\n",
              "      <td>98.000000</td>\n",
              "      <td>53.3750</td>\n",
              "      <td>49.06875</td>\n",
              "      <td>0.9375</td>\n",
              "      <td>98.1250</td>\n",
              "      <td>98.0625</td>\n",
              "      <td>1.166938e+09</td>\n",
              "      <td>6.969116e+05</td>\n",
              "      <td>12.13750</td>\n",
              "    </tr>\n",
              "    <tr>\n",
              "      <th>2</th>\n",
              "      <td>Algeria</td>\n",
              "      <td>0.0</td>\n",
              "      <td>73.61875</td>\n",
              "      <td>108.1875</td>\n",
              "      <td>20.3125</td>\n",
              "      <td>0.406667</td>\n",
              "      <td>78.000000</td>\n",
              "      <td>1943.8750</td>\n",
              "      <td>48.74375</td>\n",
              "      <td>23.5000</td>\n",
              "      <td>91.7500</td>\n",
              "      <td>91.8750</td>\n",
              "      <td>7.345597e+10</td>\n",
              "      <td>2.164983e+07</td>\n",
              "      <td>12.71250</td>\n",
              "    </tr>\n",
              "    <tr>\n",
              "      <th>3</th>\n",
              "      <td>Angola</td>\n",
              "      <td>0.0</td>\n",
              "      <td>49.01875</td>\n",
              "      <td>328.5625</td>\n",
              "      <td>83.7500</td>\n",
              "      <td>5.740667</td>\n",
              "      <td>70.222222</td>\n",
              "      <td>3561.3125</td>\n",
              "      <td>18.01875</td>\n",
              "      <td>132.6250</td>\n",
              "      <td>46.1250</td>\n",
              "      <td>47.6875</td>\n",
              "      <td>2.177835e+10</td>\n",
              "      <td>1.014710e+07</td>\n",
              "      <td>8.04375</td>\n",
              "    </tr>\n",
              "    <tr>\n",
              "      <th>4</th>\n",
              "      <td>AntiguaandBarbuda</td>\n",
              "      <td>0.0</td>\n",
              "      <td>75.05625</td>\n",
              "      <td>127.5000</td>\n",
              "      <td>0.0000</td>\n",
              "      <td>7.949333</td>\n",
              "      <td>98.266667</td>\n",
              "      <td>0.0000</td>\n",
              "      <td>38.42500</td>\n",
              "      <td>0.0000</td>\n",
              "      <td>96.9375</td>\n",
              "      <td>98.3125</td>\n",
              "      <td>0.000000e+00</td>\n",
              "      <td>NaN</td>\n",
              "      <td>8.84375</td>\n",
              "    </tr>\n",
              "  </tbody>\n",
              "</table>\n",
              "</div>\n",
              "    <div class=\"colab-df-buttons\">\n",
              "\n",
              "  <div class=\"colab-df-container\">\n",
              "    <button class=\"colab-df-convert\" onclick=\"convertToInteractive('df-4679a3d1-8ab9-479f-a339-c2f3bc93be1f')\"\n",
              "            title=\"Convert this dataframe to an interactive table.\"\n",
              "            style=\"display:none;\">\n",
              "\n",
              "  <svg xmlns=\"http://www.w3.org/2000/svg\" height=\"24px\" viewBox=\"0 -960 960 960\">\n",
              "    <path d=\"M120-120v-720h720v720H120Zm60-500h600v-160H180v160Zm220 220h160v-160H400v160Zm0 220h160v-160H400v160ZM180-400h160v-160H180v160Zm440 0h160v-160H620v160ZM180-180h160v-160H180v160Zm440 0h160v-160H620v160Z\"/>\n",
              "  </svg>\n",
              "    </button>\n",
              "\n",
              "  <style>\n",
              "    .colab-df-container {\n",
              "      display:flex;\n",
              "      gap: 12px;\n",
              "    }\n",
              "\n",
              "    .colab-df-convert {\n",
              "      background-color: #E8F0FE;\n",
              "      border: none;\n",
              "      border-radius: 50%;\n",
              "      cursor: pointer;\n",
              "      display: none;\n",
              "      fill: #1967D2;\n",
              "      height: 32px;\n",
              "      padding: 0 0 0 0;\n",
              "      width: 32px;\n",
              "    }\n",
              "\n",
              "    .colab-df-convert:hover {\n",
              "      background-color: #E2EBFA;\n",
              "      box-shadow: 0px 1px 2px rgba(60, 64, 67, 0.3), 0px 1px 3px 1px rgba(60, 64, 67, 0.15);\n",
              "      fill: #174EA6;\n",
              "    }\n",
              "\n",
              "    .colab-df-buttons div {\n",
              "      margin-bottom: 4px;\n",
              "    }\n",
              "\n",
              "    [theme=dark] .colab-df-convert {\n",
              "      background-color: #3B4455;\n",
              "      fill: #D2E3FC;\n",
              "    }\n",
              "\n",
              "    [theme=dark] .colab-df-convert:hover {\n",
              "      background-color: #434B5C;\n",
              "      box-shadow: 0px 1px 3px 1px rgba(0, 0, 0, 0.15);\n",
              "      filter: drop-shadow(0px 1px 2px rgba(0, 0, 0, 0.3));\n",
              "      fill: #FFFFFF;\n",
              "    }\n",
              "  </style>\n",
              "\n",
              "    <script>\n",
              "      const buttonEl =\n",
              "        document.querySelector('#df-4679a3d1-8ab9-479f-a339-c2f3bc93be1f button.colab-df-convert');\n",
              "      buttonEl.style.display =\n",
              "        google.colab.kernel.accessAllowed ? 'block' : 'none';\n",
              "\n",
              "      async function convertToInteractive(key) {\n",
              "        const element = document.querySelector('#df-4679a3d1-8ab9-479f-a339-c2f3bc93be1f');\n",
              "        const dataTable =\n",
              "          await google.colab.kernel.invokeFunction('convertToInteractive',\n",
              "                                                    [key], {});\n",
              "        if (!dataTable) return;\n",
              "\n",
              "        const docLinkHtml = 'Like what you see? Visit the ' +\n",
              "          '<a target=\"_blank\" href=https://colab.research.google.com/notebooks/data_table.ipynb>data table notebook</a>'\n",
              "          + ' to learn more about interactive tables.';\n",
              "        element.innerHTML = '';\n",
              "        dataTable['output_type'] = 'display_data';\n",
              "        await google.colab.output.renderOutput(dataTable, element);\n",
              "        const docLink = document.createElement('div');\n",
              "        docLink.innerHTML = docLinkHtml;\n",
              "        element.appendChild(docLink);\n",
              "      }\n",
              "    </script>\n",
              "  </div>\n",
              "\n",
              "\n",
              "    <div id=\"df-85194951-98d0-449a-9b56-1996d9184fad\">\n",
              "      <button class=\"colab-df-quickchart\" onclick=\"quickchart('df-85194951-98d0-449a-9b56-1996d9184fad')\"\n",
              "                title=\"Suggest charts\"\n",
              "                style=\"display:none;\">\n",
              "\n",
              "<svg xmlns=\"http://www.w3.org/2000/svg\" height=\"24px\"viewBox=\"0 0 24 24\"\n",
              "     width=\"24px\">\n",
              "    <g>\n",
              "        <path d=\"M19 3H5c-1.1 0-2 .9-2 2v14c0 1.1.9 2 2 2h14c1.1 0 2-.9 2-2V5c0-1.1-.9-2-2-2zM9 17H7v-7h2v7zm4 0h-2V7h2v10zm4 0h-2v-4h2v4z\"/>\n",
              "    </g>\n",
              "</svg>\n",
              "      </button>\n",
              "\n",
              "<style>\n",
              "  .colab-df-quickchart {\n",
              "      --bg-color: #E8F0FE;\n",
              "      --fill-color: #1967D2;\n",
              "      --hover-bg-color: #E2EBFA;\n",
              "      --hover-fill-color: #174EA6;\n",
              "      --disabled-fill-color: #AAA;\n",
              "      --disabled-bg-color: #DDD;\n",
              "  }\n",
              "\n",
              "  [theme=dark] .colab-df-quickchart {\n",
              "      --bg-color: #3B4455;\n",
              "      --fill-color: #D2E3FC;\n",
              "      --hover-bg-color: #434B5C;\n",
              "      --hover-fill-color: #FFFFFF;\n",
              "      --disabled-bg-color: #3B4455;\n",
              "      --disabled-fill-color: #666;\n",
              "  }\n",
              "\n",
              "  .colab-df-quickchart {\n",
              "    background-color: var(--bg-color);\n",
              "    border: none;\n",
              "    border-radius: 50%;\n",
              "    cursor: pointer;\n",
              "    display: none;\n",
              "    fill: var(--fill-color);\n",
              "    height: 32px;\n",
              "    padding: 0;\n",
              "    width: 32px;\n",
              "  }\n",
              "\n",
              "  .colab-df-quickchart:hover {\n",
              "    background-color: var(--hover-bg-color);\n",
              "    box-shadow: 0 1px 2px rgba(60, 64, 67, 0.3), 0 1px 3px 1px rgba(60, 64, 67, 0.15);\n",
              "    fill: var(--button-hover-fill-color);\n",
              "  }\n",
              "\n",
              "  .colab-df-quickchart-complete:disabled,\n",
              "  .colab-df-quickchart-complete:disabled:hover {\n",
              "    background-color: var(--disabled-bg-color);\n",
              "    fill: var(--disabled-fill-color);\n",
              "    box-shadow: none;\n",
              "  }\n",
              "\n",
              "  .colab-df-spinner {\n",
              "    border: 2px solid var(--fill-color);\n",
              "    border-color: transparent;\n",
              "    border-bottom-color: var(--fill-color);\n",
              "    animation:\n",
              "      spin 1s steps(1) infinite;\n",
              "  }\n",
              "\n",
              "  @keyframes spin {\n",
              "    0% {\n",
              "      border-color: transparent;\n",
              "      border-bottom-color: var(--fill-color);\n",
              "      border-left-color: var(--fill-color);\n",
              "    }\n",
              "    20% {\n",
              "      border-color: transparent;\n",
              "      border-left-color: var(--fill-color);\n",
              "      border-top-color: var(--fill-color);\n",
              "    }\n",
              "    30% {\n",
              "      border-color: transparent;\n",
              "      border-left-color: var(--fill-color);\n",
              "      border-top-color: var(--fill-color);\n",
              "      border-right-color: var(--fill-color);\n",
              "    }\n",
              "    40% {\n",
              "      border-color: transparent;\n",
              "      border-right-color: var(--fill-color);\n",
              "      border-top-color: var(--fill-color);\n",
              "    }\n",
              "    60% {\n",
              "      border-color: transparent;\n",
              "      border-right-color: var(--fill-color);\n",
              "    }\n",
              "    80% {\n",
              "      border-color: transparent;\n",
              "      border-right-color: var(--fill-color);\n",
              "      border-bottom-color: var(--fill-color);\n",
              "    }\n",
              "    90% {\n",
              "      border-color: transparent;\n",
              "      border-bottom-color: var(--fill-color);\n",
              "    }\n",
              "  }\n",
              "</style>\n",
              "\n",
              "      <script>\n",
              "        async function quickchart(key) {\n",
              "          const quickchartButtonEl =\n",
              "            document.querySelector('#' + key + ' button');\n",
              "          quickchartButtonEl.disabled = true;  // To prevent multiple clicks.\n",
              "          quickchartButtonEl.classList.add('colab-df-spinner');\n",
              "          try {\n",
              "            const charts = await google.colab.kernel.invokeFunction(\n",
              "                'suggestCharts', [key], {});\n",
              "          } catch (error) {\n",
              "            console.error('Error during call to suggestCharts:', error);\n",
              "          }\n",
              "          quickchartButtonEl.classList.remove('colab-df-spinner');\n",
              "          quickchartButtonEl.classList.add('colab-df-quickchart-complete');\n",
              "        }\n",
              "        (() => {\n",
              "          let quickchartButtonEl =\n",
              "            document.querySelector('#df-85194951-98d0-449a-9b56-1996d9184fad button');\n",
              "          quickchartButtonEl.style.display =\n",
              "            google.colab.kernel.accessAllowed ? 'block' : 'none';\n",
              "        })();\n",
              "      </script>\n",
              "    </div>\n",
              "\n",
              "    </div>\n",
              "  </div>\n"
            ],
            "application/vnd.google.colaboratory.intrinsic+json": {
              "type": "dataframe",
              "variable_name": "dfLE",
              "summary": "{\n  \"name\": \"dfLE\",\n  \"rows\": 191,\n  \"fields\": [\n    {\n      \"column\": \"Country\",\n      \"properties\": {\n        \"dtype\": \"string\",\n        \"num_unique_values\": 191,\n        \"samples\": [\n          \"Singapore\",\n          \"Iceland\",\n          \"SouthSudan\"\n        ],\n        \"semantic_type\": \"\",\n        \"description\": \"\"\n      }\n    },\n    {\n      \"column\": \"isDeveloped\",\n      \"properties\": {\n        \"dtype\": \"number\",\n        \"std\": 0.37443812963381573,\n        \"min\": 0.0,\n        \"max\": 1.0,\n        \"num_unique_values\": 2,\n        \"samples\": [\n          1.0,\n          0.0\n        ],\n        \"semantic_type\": \"\",\n        \"description\": \"\"\n      }\n    },\n    {\n      \"column\": \"Lifeexpectancy\",\n      \"properties\": {\n        \"dtype\": \"number\",\n        \"std\": 9.18643173288443,\n        \"min\": 46.1125,\n        \"max\": 82.5375,\n        \"num_unique_values\": 177,\n        \"samples\": [\n          75.96875,\n          60.75625\n        ],\n        \"semantic_type\": \"\",\n        \"description\": \"\"\n      }\n    },\n    {\n      \"column\": \"AdultMortality\",\n      \"properties\": {\n        \"dtype\": \"number\",\n        \"std\": 96.1851589302683,\n        \"min\": 18.75,\n        \"max\": 550.0625,\n        \"num_unique_values\": 180,\n        \"samples\": [\n          177.5,\n          71.8125\n        ],\n        \"semantic_type\": \"\",\n        \"description\": \"\"\n      }\n    },\n    {\n      \"column\": \"infantdeaths\",\n      \"properties\": {\n        \"dtype\": \"number\",\n        \"std\": 113.69160437015927,\n        \"min\": 0.0,\n        \"max\": 1366.6875,\n        \"num_unique_values\": 112,\n        \"samples\": [\n          40.3125,\n          7.8125\n        ],\n        \"semantic_type\": \"\",\n        \"description\": \"\"\n      }\n    },\n    {\n      \"column\": \"Alcohol\",\n      \"properties\": {\n        \"dtype\": \"number\",\n        \"std\": 3.8731232423949433,\n        \"min\": 0.01,\n        \"max\": 13.497333333333334,\n        \"num_unique_values\": 180,\n        \"samples\": [\n          3.212,\n          13.026\n        ],\n        \"semantic_type\": \"\",\n        \"description\": \"\"\n      }\n    },\n    {\n      \"column\": \"HepatitisB\",\n      \"properties\": {\n        \"dtype\": \"number\",\n        \"std\": 17.417696528516913,\n        \"min\": 9.0,\n        \"max\": 99.0,\n        \"num_unique_values\": 163,\n        \"samples\": [\n          31.0,\n          87.625\n        ],\n        \"semantic_type\": \"\",\n        \"description\": \"\"\n      }\n    },\n    {\n      \"column\": \"Measles\",\n      \"properties\": {\n        \"dtype\": \"number\",\n        \"std\": 7924.050116227168,\n        \"min\": 0.0,\n        \"max\": 65857.9375,\n        \"num_unique_values\": 160,\n        \"samples\": [\n          51653.9375,\n          3842.3125\n        ],\n        \"semantic_type\": \"\",\n        \"description\": \"\"\n      }\n    },\n    {\n      \"column\": \"BMI\",\n      \"properties\": {\n        \"dtype\": \"number\",\n        \"std\": 17.175529138163274,\n        \"min\": 5.2,\n        \"max\": 87.3,\n        \"num_unique_values\": 185,\n        \"samples\": [\n          44.81875,\n          55.7125\n        ],\n        \"semantic_type\": \"\",\n        \"description\": \"\"\n      }\n    },\n    {\n      \"column\": \"under-fivedeaths\",\n      \"properties\": {\n        \"dtype\": \"number\",\n        \"std\": 154.31069269469637,\n        \"min\": 0.0,\n        \"max\": 1812.5,\n        \"num_unique_values\": 111,\n        \"samples\": [\n          2.6875,\n          0.875\n        ],\n        \"semantic_type\": \"\",\n        \"description\": \"\"\n      }\n    },\n    {\n      \"column\": \"Polio\",\n      \"properties\": {\n        \"dtype\": \"number\",\n        \"std\": 15.925330239139988,\n        \"min\": 29.8125,\n        \"max\": 99.0,\n        \"num_unique_values\": 150,\n        \"samples\": [\n          89.625,\n          89.375\n        ],\n        \"semantic_type\": \"\",\n        \"description\": \"\"\n      }\n    },\n    {\n      \"column\": \"Diphtheria\",\n      \"properties\": {\n        \"dtype\": \"number\",\n        \"std\": 16.43326919405052,\n        \"min\": 26.8125,\n        \"max\": 99.0,\n        \"num_unique_values\": 162,\n        \"samples\": [\n          91.75,\n          98.75\n        ],\n        \"semantic_type\": \"\",\n        \"description\": \"\"\n      }\n    },\n    {\n      \"column\": \"GDP\",\n      \"properties\": {\n        \"dtype\": \"number\",\n        \"std\": 130561227658.18251,\n        \"min\": 0.0,\n        \"max\": 1004676905696.3063,\n        \"num_unique_values\": 145,\n        \"samples\": [\n          25079248931.619373,\n          17508093576.559376\n        ],\n        \"semantic_type\": \"\",\n        \"description\": \"\"\n      }\n    },\n    {\n      \"column\": \"Population\",\n      \"properties\": {\n        \"dtype\": \"number\",\n        \"std\": 38279609.48254564,\n        \"min\": 292.0,\n        \"max\": 421467690.9375,\n        \"num_unique_values\": 144,\n        \"samples\": [\n          329044.1875,\n          6143694.8125\n        ],\n        \"semantic_type\": \"\",\n        \"description\": \"\"\n      }\n    },\n    {\n      \"column\": \"Schooling\",\n      \"properties\": {\n        \"dtype\": \"number\",\n        \"std\": 3.104851565570136,\n        \"min\": 1.53125,\n        \"max\": 20.0375,\n        \"num_unique_values\": 168,\n        \"samples\": [\n          8.6375,\n          6.2375\n        ],\n        \"semantic_type\": \"\",\n        \"description\": \"\"\n      }\n    }\n  ]\n}"
            }
          },
          "metadata": {},
          "execution_count": 3
        }
      ],
      "source": [
        "#Load data and do some cleanup before starting\n",
        "#Please don't change this stuff.\n",
        "dfLE = pd.read_csv(\"led.csv\")\n",
        "dfLE.rename(columns={\"Status\":\"isDeveloped\", }, inplace=True)\n",
        "dfLE[\"isDeveloped\"].replace(('Developed', 'Developing'), (1, 0), inplace=True)\n",
        "dfLE = dfLE.drop(columns={\"Year\", \"Incomecompositionofresources\", \"thinness5-9years\", \"HIV/AIDS\", \"percentageexpenditure\", \"Totalexpenditure\", \"thinness1-19years\"})\n",
        "dfLE = dfLE.groupby(\"Country\", as_index=False).mean()\n",
        "dfLE.head()\n"
      ]
    },
    {
      "cell_type": "markdown",
      "metadata": {
        "id": "JM4R9zZyvxju"
      },
      "source": [
        "<h2>Part 1: Add a column for GDP per Capita (5pts)</h2>\n",
        "\n",
        "Show print the labels along with just that column. Print 10 random rows of that data.\n",
        "\n",
        "Note: you'll have to look at the units to ensure you get it right."
      ]
    },
    {
      "cell_type": "code",
      "execution_count": null,
      "metadata": {
        "id": "LiR8TVG9vxju"
      },
      "outputs": [],
      "source": [
        "#Part 1"
      ]
    },
    {
      "cell_type": "markdown",
      "metadata": {
        "id": "lGEroTFbvxju"
      },
      "source": [
        "### Part 2: Print a visualization of each distribution. Both regular (density) and cumulative. (15pts)\n",
        "\n",
        "Print each distribution is some type of visualization, also print the cumulative distribution.\n",
        "<ul>\n",
        "<li>5 points are for using some visualization that is effective.\n",
        "<li>5 points for formatting things in a nice layout. Hint: for whatever chart you use, look into some formatting options. Think of what to try to Google for an example for printing multiple charts, a grid of charts, etc... and try to adapt one to yours. There is also a way to do it using some thinkstats/thinkplot stuff.\n",
        "<li><b>5 points are for doing it in an efficient way - just listing off each column is lots of typing... Remember, the #1 trait of programmers is laziness with respect to repetitive tasks. If we are doing the same thing over and over with tiny changes, try to think of a condensed way to do this...</b>\n",
        "</ul>"
      ]
    },
    {
      "cell_type": "code",
      "execution_count": null,
      "metadata": {
        "id": "ZjhWUJdLvxju"
      },
      "outputs": [],
      "source": [
        "#Print all distributions"
      ]
    },
    {
      "cell_type": "markdown",
      "metadata": {
        "id": "swPB3A4qvxjv"
      },
      "source": [
        "### Create an analytical distribution for SCHOOLING, and use it for a couple of things. (20pts)\n",
        "\n",
        "<ul>\n",
        "<li>5 points are for choosing an appropriate distribution. Please state it clearly somewhere.\n",
        "<li>10 points are for creating and visualizing the distribution. Do it <b>without</b> using a fit() method. Plot the emperical data on the same graph as the analytical distribution.\n",
        "<li>5 points are for using the distribution to predict the percentage of that have a schooling level within 1 year of Canada.\n",
        "</ul>"
      ]
    },
    {
      "cell_type": "code",
      "execution_count": null,
      "metadata": {
        "id": "iiHwp7aHvxjv"
      },
      "outputs": [],
      "source": [
        "#Analytical for Schooling"
      ]
    },
    {
      "cell_type": "markdown",
      "metadata": {
        "id": "kspf7rUHvxjv"
      },
      "source": [
        "### Part 3: Create another analytical distribution for GDP per Capita (20pts)\n",
        "\n",
        "<ul>\n",
        "<li>5 points are for choosing an appropriate distribution. Please state it clearly somewhere.\n",
        "<li>10 points are for creating and visualizing it alongside the emperical. You have free reign on how.\n",
        "<li>5 points are for using the analytical distribution to evaluate the quality of your GDP per capita metric - does it appear accurate? Why or why not?\n",
        "<li>If you've judged GDP per cap to be unreliable, drop it.\n",
        "</ul>"
      ]
    },
    {
      "cell_type": "code",
      "execution_count": null,
      "metadata": {
        "id": "Rx53o47qvxjv"
      },
      "outputs": [],
      "source": [
        "#Analytical for GDP/capita"
      ]
    },
    {
      "cell_type": "markdown",
      "metadata": {
        "id": "tEzDnfHCvxjv"
      },
      "source": [
        "### Part 4: Visually identify correlations. Separate developed and not developed countries is some way. (15pts)\n",
        "\n",
        "<ul>\n",
        "<li>5 points are for effectively and clearly showing the visualizations used to evaluate correlations.\n",
        "<li>10 points are for, in the process of visualizing, remove outliers that confound correlations. List outlier \"filters\" you used and justify why - was the data an error, a real value that is just way out of line, or somethingn else? Remember, you're trying to find things that have correlations with each other. Looking at a correlation between home size and income may not benefit from Jeff Bezos being included. It may be helpful to look at the results and revise.\n",
        "</ul>"
      ]
    },
    {
      "cell_type": "code",
      "execution_count": null,
      "metadata": {
        "id": "G3RXiTMQvxjv"
      },
      "outputs": [],
      "source": [
        "#Visualize correlations."
      ]
    },
    {
      "cell_type": "markdown",
      "metadata": {
        "id": "0Dt6C-rxvxjv"
      },
      "source": [
        "### Part 5: Calculate correlations (25pts)\n",
        "\n",
        "<ul>\n",
        "<li>5 points are for identifying and calculating 3 strongest correlations with life expectancy for each of developed and not developed.\n",
        "<li>10 points are for analyzing those correlations. Do they appear to be supported by reality? Do you have reason to beleive any are causal?\n",
        "<li>10 points are for identifying 2 places where developing and developed countries have a substantially different relationship with respect to life expectancy, and theorizing why. What would be needed to confirm your thoughts?\n",
        "</ul>\n",
        "\n",
        "<b>Please put your written parts in markdown cells, with a little formatting to make them readable."
      ]
    },
    {
      "cell_type": "code",
      "execution_count": null,
      "metadata": {
        "id": "galipN3Fvxjw"
      },
      "outputs": [],
      "source": [
        "#Calculate correlations and analyze."
      ]
    }
  ],
  "metadata": {
    "kernelspec": {
      "display_name": "Python 3.9.7 ('ml3950')",
      "language": "python",
      "name": "python3"
    },
    "language_info": {
      "codemirror_mode": {
        "name": "ipython",
        "version": 3
      },
      "file_extension": ".py",
      "mimetype": "text/x-python",
      "name": "python",
      "nbconvert_exporter": "python",
      "pygments_lexer": "ipython3",
      "version": "3.9.7"
    },
    "orig_nbformat": 4,
    "vscode": {
      "interpreter": {
        "hash": "4d722d3adfa415172c1f5238b519fb86b488acdae450fd691ab06c09f4ca9173"
      }
    },
    "colab": {
      "provenance": []
    }
  },
  "nbformat": 4,
  "nbformat_minor": 0
}